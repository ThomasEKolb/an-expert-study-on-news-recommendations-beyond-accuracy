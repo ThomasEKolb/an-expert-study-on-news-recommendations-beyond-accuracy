{
 "cells": [
  {
   "cell_type": "markdown",
   "metadata": {},
   "source": [
    "# Evaluation"
   ]
  },
  {
   "cell_type": "markdown",
   "metadata": {},
   "source": [
    "The evaluation of the results is performed with the help of the ClayRS framework. The documentation is available at: https://swapuniba.github.io/ClayRS/"
   ]
  },
  {
   "cell_type": "code",
   "execution_count": null,
   "metadata": {},
   "outputs": [],
   "source": [
    "# Install dependencies\n",
    "!python -m pip install clayrs"
   ]
  },
  {
   "cell_type": "markdown",
   "metadata": {},
   "source": [
    "## Preprocessing\n",
    "\n",
    "For further usage in the ClayRS framework data preprocessing is required."
   ]
  },
  {
   "cell_type": "markdown",
   "metadata": {},
   "source": [
    "Split \"query_articles_recommendations_bws_bm25_df.csv\" into the for ClayRS required \"rank_list\" and truth_list\".\n",
    "\n",
    "- \"rank_list\": consists of the BM-25 recommendations\n",
    "- \"truth_list\": consits of the Best-Worst Scaling (BWS) results of the expert study"
   ]
  },
  {
   "cell_type": "code",
   "execution_count": 3,
   "metadata": {},
   "outputs": [],
   "source": [
    "import pandas as pd\n",
    "query_articles_recommendations_bws_bm25_df = pd.read_csv(\"../query_Articles_recommendations_bws_bm25_df.csv\")\n",
    "\n",
    "truth_list = query_articles_recommendations_bws_bm25_df[['editor_name_BWS','query_article_BWS','article_id_BWS','TOP-K_BWS','Score_BWS']].copy()\n",
    "truth_list['user_id'] =  query_articles_recommendations_bws_bm25_df['editor_name_BWS']+\"-\"+query_articles_recommendations_bws_bm25_df['query_article_BWS']\n",
    "truth_list = truth_list[['user_id','article_id_BWS','TOP-K_BWS']]\n",
    "truth_list.to_csv(\"truth_BWS.csv\",index=False)\n",
    "\n",
    "rank_list = query_articles_recommendations_bws_bm25_df[['editor_name_BM25','query_article_BM25','article_id_BM25','TOP-K_BM25','Score_BM25']].copy()\n",
    "rank_list['user_id'] =  query_articles_recommendations_bws_bm25_df['editor_name_BM25']+\"-\"+query_articles_recommendations_bws_bm25_df['query_article_BM25']\n",
    "rank_list = rank_list[['user_id','article_id_BM25','TOP-K_BM25']]\n",
    "rank_list.to_csv(\"rank_BM25.csv\",index=False)"
   ]
  },
  {
   "cell_type": "code",
   "execution_count": null,
   "metadata": {},
   "outputs": [],
   "source": [
    "# The content analyzer tool helps to import the data and format them for the \"EvalModel\" of ClayRS.\n",
    "import clayrs.content_analyzer as ca\n",
    "\n",
    "imported_truth = ca.Ratings(ca.CSVFile('truth_BWS.csv'))\n",
    "imported_rank = ca.Rank(ca.CSVFile('rank_BM25.csv'))"
   ]
  },
  {
   "cell_type": "code",
   "execution_count": 5,
   "metadata": {},
   "outputs": [],
   "source": [
    "imported_truth_test = ca.Ratings.from_dataframe(truth_list)\n",
    "imported_rank_test = ca.Rank.from_dataframe(rank_list)"
   ]
  },
  {
   "cell_type": "code",
   "execution_count": 6,
   "metadata": {},
   "outputs": [
    {
     "name": "stdout",
     "output_type": "stream",
     "text": [
      "                                  user_id                     item_id  score\n",
      "0       brnada-FALTER_20211201_1FE873026D  FALTER_20220608_E67B54FF98    1.0\n",
      "1       brnada-FALTER_20211201_1FE873026D  FALTER_20220330_73CAF44312    2.0\n",
      "2       brnada-FALTER_20211201_1FE873026D  FALTER_20220126_5FA47BB63A    3.0\n",
      "3       brnada-FALTER_20211201_1FE873026D  FALTER_20220119_DC6490CEC7    4.0\n",
      "4       brnada-FALTER_20211201_1FE873026D  FALTER_20211215_AF0C90B712    5.0\n",
      "...                                   ...                         ...    ...\n",
      "2515  thurnher-FALTER_20220615_712D78A192  FALTER_20220525_B332E0066F   11.0\n",
      "2516  thurnher-FALTER_20220615_712D78A192  FALTER_20220824_23AE4161B4   12.0\n",
      "2517  thurnher-FALTER_20220615_712D78A192  FALTER_20220615_58EE1B7D7A   13.0\n",
      "2518  thurnher-FALTER_20220615_712D78A192  FALTER_20220803_106498EA98   14.0\n",
      "2519  thurnher-FALTER_20220615_712D78A192  FALTER_20211222_A35407C20B   15.0\n",
      "\n",
      "[2520 rows x 3 columns]\n"
     ]
    }
   ],
   "source": [
    "print(imported_truth)"
   ]
  },
  {
   "cell_type": "code",
   "execution_count": 7,
   "metadata": {},
   "outputs": [],
   "source": [
    "# For the analysis of the results we use the \"EvalModel\" of ClayRS\n",
    "import clayrs.evaluation as eva\n",
    "import numpy as np\n",
    "\n",
    "em = eva.EvalModel(\n",
    "    [imported_rank],\n",
    "    [imported_truth],\n",
    "    metric_list=[\n",
    "        eva.Correlation(method='spearman', top_n=3),\n",
    "        eva.Correlation(method='spearman', top_n=5),\n",
    "        eva.Correlation(method='spearman', top_n=10),\n",
    "        eva.Correlation(method='spearman', top_n=None)\n",
    "    ]\n",
    ")"
   ]
  },
  {
   "cell_type": "code",
   "execution_count": 8,
   "metadata": {},
   "outputs": [
    {
     "name": "stderr",
     "output_type": "stream",
     "text": [
      "\u001b[39mINFO\u001b[0m - Performing evaluation on metrics chosen\n",
      "Performing spearman:  100%|██████████| 4/4 [00:01<00:00]        \n"
     ]
    }
   ],
   "source": [
    "sys_results_df, users_results_df = em.fit(user_id_list=None)"
   ]
  },
  {
   "cell_type": "code",
   "execution_count": 9,
   "metadata": {},
   "outputs": [
    {
     "data": {
      "text/html": [
       "<div>\n",
       "<style scoped>\n",
       "    .dataframe tbody tr th:only-of-type {\n",
       "        vertical-align: middle;\n",
       "    }\n",
       "\n",
       "    .dataframe tbody tr th {\n",
       "        vertical-align: top;\n",
       "    }\n",
       "\n",
       "    .dataframe thead th {\n",
       "        text-align: right;\n",
       "    }\n",
       "</style>\n",
       "<table border=\"1\" class=\"dataframe\">\n",
       "  <thead>\n",
       "    <tr style=\"text-align: right;\">\n",
       "      <th></th>\n",
       "      <th>spearman - Top 3</th>\n",
       "      <th>spearman - Top 5</th>\n",
       "      <th>spearman - Top 10</th>\n",
       "      <th>spearman</th>\n",
       "    </tr>\n",
       "    <tr>\n",
       "      <th>user_id</th>\n",
       "      <th></th>\n",
       "      <th></th>\n",
       "      <th></th>\n",
       "      <th></th>\n",
       "    </tr>\n",
       "  </thead>\n",
       "  <tbody>\n",
       "    <tr>\n",
       "      <th>sys - fold1</th>\n",
       "      <td>0.208333</td>\n",
       "      <td>0.220833</td>\n",
       "      <td>0.234776</td>\n",
       "      <td>0.195791</td>\n",
       "    </tr>\n",
       "    <tr>\n",
       "      <th>sys - mean</th>\n",
       "      <td>0.208333</td>\n",
       "      <td>0.220833</td>\n",
       "      <td>0.234776</td>\n",
       "      <td>0.195791</td>\n",
       "    </tr>\n",
       "  </tbody>\n",
       "</table>\n",
       "</div>"
      ],
      "text/plain": [
       "             spearman - Top 3  spearman - Top 5  spearman - Top 10  spearman\n",
       "user_id                                                                     \n",
       "sys - fold1          0.208333          0.220833           0.234776  0.195791\n",
       "sys - mean           0.208333          0.220833           0.234776  0.195791"
      ]
     },
     "execution_count": 9,
     "metadata": {},
     "output_type": "execute_result"
    }
   ],
   "source": [
    "sys_results_df"
   ]
  },
  {
   "cell_type": "code",
   "execution_count": 10,
   "metadata": {},
   "outputs": [
    {
     "data": {
      "text/html": [
       "<div>\n",
       "<style scoped>\n",
       "    .dataframe tbody tr th:only-of-type {\n",
       "        vertical-align: middle;\n",
       "    }\n",
       "\n",
       "    .dataframe tbody tr th {\n",
       "        vertical-align: top;\n",
       "    }\n",
       "\n",
       "    .dataframe thead th {\n",
       "        text-align: right;\n",
       "    }\n",
       "</style>\n",
       "<table border=\"1\" class=\"dataframe\">\n",
       "  <thead>\n",
       "    <tr style=\"text-align: right;\">\n",
       "      <th></th>\n",
       "      <th>spearman - Top 3</th>\n",
       "      <th>spearman - Top 5</th>\n",
       "      <th>spearman - Top 10</th>\n",
       "      <th>spearman</th>\n",
       "    </tr>\n",
       "    <tr>\n",
       "      <th>user_id</th>\n",
       "      <th></th>\n",
       "      <th></th>\n",
       "      <th></th>\n",
       "      <th></th>\n",
       "    </tr>\n",
       "  </thead>\n",
       "  <tbody>\n",
       "    <tr>\n",
       "      <th>matzinger-FALTER_20220209_5CA8DCBD6D</th>\n",
       "      <td>-0.5</td>\n",
       "      <td>0.7</td>\n",
       "      <td>0.830303</td>\n",
       "      <td>0.900000</td>\n",
       "    </tr>\n",
       "    <tr>\n",
       "      <th>thurnher-FALTER_20220427_EAD82E8BFA</th>\n",
       "      <td>1.0</td>\n",
       "      <td>-0.1</td>\n",
       "      <td>0.636364</td>\n",
       "      <td>0.807143</td>\n",
       "    </tr>\n",
       "    <tr>\n",
       "      <th>dusini-FALTER_20220427_B3A080073E</th>\n",
       "      <td>0.5</td>\n",
       "      <td>0.8</td>\n",
       "      <td>0.430303</td>\n",
       "      <td>0.735714</td>\n",
       "    </tr>\n",
       "    <tr>\n",
       "      <th>konzett-FALTER_20220511_71668B1344</th>\n",
       "      <td>-1.0</td>\n",
       "      <td>0.6</td>\n",
       "      <td>0.296970</td>\n",
       "      <td>0.721429</td>\n",
       "    </tr>\n",
       "    <tr>\n",
       "      <th>nuechtern-FALTER_20220601_A6AE0B2BDE</th>\n",
       "      <td>-1.0</td>\n",
       "      <td>0.1</td>\n",
       "      <td>0.551515</td>\n",
       "      <td>0.721429</td>\n",
       "    </tr>\n",
       "    <tr>\n",
       "      <th>...</th>\n",
       "      <td>...</td>\n",
       "      <td>...</td>\n",
       "      <td>...</td>\n",
       "      <td>...</td>\n",
       "    </tr>\n",
       "    <tr>\n",
       "      <th>omasta-FALTER_20220608_0942739322</th>\n",
       "      <td>-0.5</td>\n",
       "      <td>-0.5</td>\n",
       "      <td>-0.454545</td>\n",
       "      <td>-0.335714</td>\n",
       "    </tr>\n",
       "    <tr>\n",
       "      <th>nuechtern-FALTER_20220518_9910096646</th>\n",
       "      <td>0.5</td>\n",
       "      <td>0.3</td>\n",
       "      <td>0.212121</td>\n",
       "      <td>-0.439286</td>\n",
       "    </tr>\n",
       "    <tr>\n",
       "      <th>stoeger-FALTER_20220511_945D8A7943</th>\n",
       "      <td>1.0</td>\n",
       "      <td>0.9</td>\n",
       "      <td>-0.187879</td>\n",
       "      <td>-0.485714</td>\n",
       "    </tr>\n",
       "    <tr>\n",
       "      <th>stoeger-FALTER_20220525_ED45427570</th>\n",
       "      <td>-0.5</td>\n",
       "      <td>0.3</td>\n",
       "      <td>-0.466667</td>\n",
       "      <td>-0.553571</td>\n",
       "    </tr>\n",
       "    <tr>\n",
       "      <th>konzett-FALTER_20220518_B804602C3C</th>\n",
       "      <td>-0.5</td>\n",
       "      <td>-0.6</td>\n",
       "      <td>-0.236364</td>\n",
       "      <td>-0.596429</td>\n",
       "    </tr>\n",
       "  </tbody>\n",
       "</table>\n",
       "<p>168 rows × 4 columns</p>\n",
       "</div>"
      ],
      "text/plain": [
       "                                      spearman - Top 3  spearman - Top 5  \\\n",
       "user_id                                                                    \n",
       "matzinger-FALTER_20220209_5CA8DCBD6D              -0.5               0.7   \n",
       "thurnher-FALTER_20220427_EAD82E8BFA                1.0              -0.1   \n",
       "dusini-FALTER_20220427_B3A080073E                  0.5               0.8   \n",
       "konzett-FALTER_20220511_71668B1344                -1.0               0.6   \n",
       "nuechtern-FALTER_20220601_A6AE0B2BDE              -1.0               0.1   \n",
       "...                                                ...               ...   \n",
       "omasta-FALTER_20220608_0942739322                 -0.5              -0.5   \n",
       "nuechtern-FALTER_20220518_9910096646               0.5               0.3   \n",
       "stoeger-FALTER_20220511_945D8A7943                 1.0               0.9   \n",
       "stoeger-FALTER_20220525_ED45427570                -0.5               0.3   \n",
       "konzett-FALTER_20220518_B804602C3C                -0.5              -0.6   \n",
       "\n",
       "                                      spearman - Top 10  spearman  \n",
       "user_id                                                            \n",
       "matzinger-FALTER_20220209_5CA8DCBD6D           0.830303  0.900000  \n",
       "thurnher-FALTER_20220427_EAD82E8BFA            0.636364  0.807143  \n",
       "dusini-FALTER_20220427_B3A080073E              0.430303  0.735714  \n",
       "konzett-FALTER_20220511_71668B1344             0.296970  0.721429  \n",
       "nuechtern-FALTER_20220601_A6AE0B2BDE           0.551515  0.721429  \n",
       "...                                                 ...       ...  \n",
       "omasta-FALTER_20220608_0942739322             -0.454545 -0.335714  \n",
       "nuechtern-FALTER_20220518_9910096646           0.212121 -0.439286  \n",
       "stoeger-FALTER_20220511_945D8A7943            -0.187879 -0.485714  \n",
       "stoeger-FALTER_20220525_ED45427570            -0.466667 -0.553571  \n",
       "konzett-FALTER_20220518_B804602C3C            -0.236364 -0.596429  \n",
       "\n",
       "[168 rows x 4 columns]"
      ]
     },
     "execution_count": 10,
     "metadata": {},
     "output_type": "execute_result"
    }
   ],
   "source": [
    "user_results_sorted =  users_results_df.sort_values(by=['spearman'],ascending=False)\n",
    "user_results_sorted"
   ]
  },
  {
   "cell_type": "code",
   "execution_count": 12,
   "metadata": {},
   "outputs": [
    {
     "data": {
      "text/plain": [
       "<AxesSubplot:>"
      ]
     },
     "execution_count": 12,
     "metadata": {},
     "output_type": "execute_result"
    },
    {
     "data": {
      "image/png": "[encoded data removed]",
      "text/plain": [
       "<Figure size 640x480 with 1 Axes>"
      ]
     },
     "metadata": {},
     "output_type": "display_data"
    }
   ],
   "source": [
    "user_results_sorted.plot(kind='box')"
   ]
  }
 ],
 "metadata": {
  "interpreter": {
   "hash": "6afba9d6609e30e44e6a2d98b3bb0ab3bf811f37efdeac45b070b8a24aace232"
  },
  "kernelspec": {
   "display_name": "Python 3.10.8 ('websci23')",
   "language": "python",
   "name": "python3"
  },
  "language_info": {
   "codemirror_mode": {
    "name": "ipython",
    "version": 3
   },
   "file_extension": ".py",
   "mimetype": "text/x-python",
   "name": "python",
   "nbconvert_exporter": "python",
   "pygments_lexer": "ipython3",
   "version": "3.10.8"
  },
  "orig_nbformat": 4
 },
 "nbformat": 4,
 "nbformat_minor": 2
}
